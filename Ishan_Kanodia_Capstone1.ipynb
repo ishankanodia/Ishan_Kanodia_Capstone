{
 "cells": [
  {
   "cell_type": "code",
   "execution_count": null,
   "metadata": {},
   "outputs": [],
   "source": [
    "import openai\n",
    "\n",
    "# Set your OpenAI API key\n",
    "openai.api_key = \"your_openai_api_key\"\n",
    "\n",
    "# Function to generate a response using GPT-3.5\n",
    "def generate_response(prompt):\n",
    "    response = openai.Completion.create(\n",
    "        engine=\"text-davinci-003\",  # or the appropriate GPT-3.5 model name\n",
    "        prompt=prompt,\n",
    "        max_tokens=150,\n",
    "        n=1,\n",
    "        stop=None,\n",
    "        temperature=0.7\n",
    "    )\n",
    "    return response.choices[0].text.strip()\n",
    "\n",
    "# Example usage\n",
    "customer_query = \"How can I reset my password?\"\n",
    "response = generate_response(f\"Customer query: {customer_query}\\nSupport response:\")\n",
    "print(\"AI Response:\", response)\n"
   ]
  }
 ],
 "metadata": {
  "language_info": {
   "name": "python"
  }
 },
 "nbformat": 4,
 "nbformat_minor": 2
}
