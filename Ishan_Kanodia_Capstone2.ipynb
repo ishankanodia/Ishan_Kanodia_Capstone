{
 "cells": [
  {
   "cell_type": "code",
   "execution_count": null,
   "metadata": {},
   "outputs": [],
   "source": [
    "import openai\n",
    "\n",
    "# Set your OpenAI API key\n",
    "openai.api_key = \"your_openai_api_key\"\n",
    "\n",
    "# Function to generate a personalized message\n",
    "def generate_personalized_message(customer_data, interaction_history):\n",
    "    prompt = f\"Customer data: {customer_data}\\nInteraction history: {interaction_history}\\nPersonalized message:\"\n",
    "    response = openai.Completion.create(\n",
    "        engine=\"text-davinci-003\",\n",
    "        prompt=prompt,\n",
    "        max_tokens=150,\n",
    "        n=1,\n",
    "        stop=None,\n",
    "        temperature=0.7\n",
    "    )\n",
    "    return response.choices[0].text.strip()\n",
    "\n",
    "# Example usage\n",
    "customer_data = \"Name: John Doe, Purchase History: [Laptop, Phone], Preferences: [Tech, Gadgets]\"\n",
    "interaction_history = \"Last interaction: Asked about latest tech gadgets\"\n",
    "personalized_message = generate_personalized_message(customer_data, interaction_history)\n",
    "print(\"Personalized Message:\", personalized_message)\n"
   ]
  }
 ],
 "metadata": {
  "language_info": {
   "name": "python"
  }
 },
 "nbformat": 4,
 "nbformat_minor": 2
}
